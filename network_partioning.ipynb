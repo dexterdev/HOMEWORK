{
 "metadata": {
  "name": ""
 },
 "nbformat": 3,
 "nbformat_minor": 0,
 "worksheets": [
  {
   "cells": [
    {
     "cell_type": "heading",
     "level": 1,
     "metadata": {},
     "source": [
      "1. Network Partioning"
     ]
    },
    {
     "cell_type": "raw",
     "metadata": {},
     "source": [
      "(a) Break the following network into two modules optimally\n",
      "A=[0 1 0 0 0 0 0 0;1 0 1 0 0 0 0 0;0 1 0 1 0 0 0 0;0 0 1 0 1 0 0 0;0 0 0 1\n",
      "0 1 0 0;0 0 0 0 1 0 1 0;0 0 0 0 0 1 0 1;0 0 0 0 0 0 1 0]\n",
      "Show the steps you use to do this partitioning.\n",
      "Mention the node numbers that belong to each of the modules\n",
      "(b) Use the above partitioning to now find the optimal partition into three\n",
      "modules.\n",
      "(c) If you were allowed to straightaway break the original network into 3\n",
      "optimal partitions (using the concept of maximization of the modularity\n",
      "measure Q) would you get a different set of partitions ? If so what are\n",
      "nodes belonging to each of the modules ?"
     ]
    },
    {
     "cell_type": "heading",
     "level": 2,
     "metadata": {},
     "source": [
      "Break the Network into 2 modules optimally"
     ]
    },
    {
     "cell_type": "code",
     "collapsed": false,
     "input": [
      "import networkx as nx\n",
      "import community\n",
      "import numpy as np\n",
      "import matplotlib.pyplot as plt\n",
      "from igraph import *\n",
      "\n",
      "Adj=np.matrix([[0 ,1 ,0, 0, 0, 0, 0, 0],[1 ,0, 1, 0, 0, 0, 0, 0],[0, 1, 0, 1, 0, 0, 0, 0],[0, 0, 1, 0, 1, 0, 0, 0],\n",
      "               [0, 0, 0, 1,0, 1, 0, 0],[0, 0, 0, 0, 1, 0, 1, 0],[0 ,0 ,0 ,0 ,0, 1, 0, 1],[0, 0, 0, 0, 0, 0, 1, 0]])\n",
      "G = nx.Graph(nx.from_numpy_matrix(Adj))\n",
      "nx.draw(G,with_labels=\"True\")"
     ],
     "language": "python",
     "metadata": {},
     "outputs": [
      {
       "metadata": {},
       "output_type": "display_data",
       "png": "[encoded data removed]",
       "text": [
        "<matplotlib.figure.Figure at 0x7f35e8077e10>"
       ]
      }
     ],
     "prompt_number": 3
    },
    {
     "cell_type": "code",
     "collapsed": false,
     "input": [
      "#find modularity for best partitionind to 2 modules\n",
      "part = community.best_partition(G)\n",
      "print part # 0 -for one class, 1- for other so-on (here 2 classes- 0 and 1) and nodes 0 to 7"
     ],
     "language": "python",
     "metadata": {},
     "outputs": [
      {
       "output_type": "stream",
       "stream": "stdout",
       "text": [
        "{0: 0, 1: 0, 2: 0, 3: 0, 4: 1, 5: 1, 6: 1, 7: 1}\n"
       ]
      }
     ],
     "prompt_number": 4
    },
    {
     "cell_type": "code",
     "collapsed": false,
     "input": [
      "mod = community.modularity(part,G) # Q - modularity measure\n",
      "print mod # modularity for the best partition"
     ],
     "language": "python",
     "metadata": {},
     "outputs": [
      {
       "output_type": "stream",
       "stream": "stdout",
       "text": [
        "0.357142857143\n"
       ]
      }
     ],
     "prompt_number": 5
    },
    {
     "cell_type": "heading",
     "level": 2,
     "metadata": {},
     "source": [
      "Optimal partition into 3 modules"
     ]
    },
    {
     "cell_type": "code",
     "collapsed": false,
     "input": [
      "#find modularity using igraph for 3 partition (manual selection)\n",
      "g = Graph()\n",
      "g.add_vertices(8)\n",
      "g.add_edges([(0,1),(1,2),(2,3),(3,4),(4,5),(5,6),(6,7)])\n",
      "c1 = Clustering([0,0,0,1,1,2,2,2])\n",
      "Q1=g.modularity(c1.membership)\n",
      "Q1"
     ],
     "language": "python",
     "metadata": {},
     "outputs": [
      {
       "metadata": {},
       "output_type": "pyout",
       "prompt_number": 6,
       "text": [
        "0.37755102040816324"
       ]
      }
     ],
     "prompt_number": 6
    },
    {
     "cell_type": "code",
     "collapsed": false,
     "input": [
      "g.community_leading_eigenvector() #3 partitions specified for the newman's leading eigen vector based community detection"
     ],
     "language": "python",
     "metadata": {},
     "outputs": [
      {
       "metadata": {},
       "output_type": "pyout",
       "prompt_number": 22,
       "text": [
        "<igraph.clustering.VertexClustering at 0x7f35ea6a79d0>"
       ]
      }
     ],
     "prompt_number": 22
    },
    {
     "cell_type": "code",
     "collapsed": false,
     "input": [
      "g.community_leading_eigenvector(8).membership"
     ],
     "language": "python",
     "metadata": {},
     "outputs": [
      {
       "metadata": {},
       "output_type": "pyout",
       "prompt_number": 16,
       "text": [
        "[0, 0, 0, 0, 1, 1, 1, 1]"
       ]
      }
     ],
     "prompt_number": 16
    }
   ],
   "metadata": {}
  }
 ]
}
