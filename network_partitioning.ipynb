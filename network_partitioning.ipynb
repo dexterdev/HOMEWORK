{
 "metadata": {
  "name": "network_partioning"
 },
 "nbformat": 3,
 "nbformat_minor": 0,
 "worksheets": [
  {
   "cells": [
    {
     "cell_type": "heading",
     "level": 1,
     "metadata": {},
     "source": "1. Network Partioning"
    },
    {
     "cell_type": "raw",
     "metadata": {},
     "source": "(a) Break the following network into two modules optimally\nA=[0 1 0 0 0 0 0 0;1 0 1 0 0 0 0 0;0 1 0 1 0 0 0 0;0 0 1 0 1 0 0 0;0 0 0 1\n0 1 0 0;0 0 0 0 1 0 1 0;0 0 0 0 0 1 0 1;0 0 0 0 0 0 1 0]\nShow the steps you use to do this partitioning.\nMention the node numbers that belong to each of the modules\n(b) Use the above partitioning to now find the optimal partition into three\nmodules.\n(c) If you were allowed to straightaway break the original network into 3\noptimal partitions (using the concept of maximization of the modularity\nmeasure Q) would you get a different set of partitions ? If so what are\nnodes belonging to each of the modules ?"
    },
    {
     "cell_type": "heading",
     "level": 2,
     "metadata": {},
     "source": "Break the Network into 2 modules optimally"
    },
    {
     "cell_type": "code",
     "collapsed": false,
     "input": "import networkx as nx\nimport community\nimport numpy as np\nimport matplotlib.pyplot as plt\nfrom igraph import *\n\nAdj=np.matrix([[0 ,1 ,0, 0, 0, 0, 0, 0],[1 ,0, 1, 0, 0, 0, 0, 0],[0, 1, 0, 1, 0, 0, 0, 0],[0, 0, 1, 0, 1, 0, 0, 0],\n               [0, 0, 0, 1,0, 1, 0, 0],[0, 0, 0, 0, 1, 0, 1, 0],[0 ,0 ,0 ,0 ,0, 1, 0, 1],[0, 0, 0, 0, 0, 0, 1, 0]])\nG = nx.Graph(nx.from_numpy_matrix(Adj))\nnx.draw(G,with_labels=\"True\")",
     "language": "python",
     "metadata": {},
     "outputs": [
      {
       "metadata": {},
       "output_type": "display_data",
       "png": "[encoded data removed]",
       "text": "<matplotlib.figure.Figure at 0x7f8018119250>"
      }
     ],
     "prompt_number": 1
    },
    {
     "cell_type": "code",
     "collapsed": false,
     "input": "#find modularity for best partitionind to 2 modules\npart = community.best_partition(G)\nprint part # 0 -for one class, 1- for other so-on (here 2 classes- 0 and 1) and nodes 0 to 7",
     "language": "python",
     "metadata": {},
     "outputs": [
      {
       "output_type": "stream",
       "stream": "stdout",
       "text": "{0: 0, 1: 0, 2: 0, 3: 0, 4: 1, 5: 1, 6: 1, 7: 1}\n"
      }
     ],
     "prompt_number": 7
    },
    {
     "cell_type": "code",
     "collapsed": false,
     "input": "mod = community.modularity(part,G) # Q - modularity measure\nprint mod # modularity for the best partition",
     "language": "python",
     "metadata": {},
     "outputs": [
      {
       "output_type": "stream",
       "stream": "stdout",
       "text": "0.357142857143\n"
      }
     ],
     "prompt_number": 8
    },
    {
     "cell_type": "heading",
     "level": 2,
     "metadata": {},
     "source": "Optimal partition into 3 modules"
    },
    {
     "cell_type": "code",
     "collapsed": false,
     "input": "#find modularity using igraph for 3 partition\ng = Graph()\ng.add_vertices(8)\ng.add_edges([(0,1),(1,2),(2,3),(3,4),(4,5),(5,6),(6,7)])\nc1 = Clustering([0,0,0,1,1,2,2,2])\nQ1=g.modularity(c1.membership)\nQ1",
     "language": "python",
     "metadata": {},
     "outputs": [
      {
       "metadata": {},
       "output_type": "pyout",
       "prompt_number": 2,
       "text": "0.37755102040816324"
      }
     ],
     "prompt_number": 2
    },
    {
     "cell_type": "code",
     "collapsed": false,
     "input": "",
     "language": "python",
     "metadata": {},
     "outputs": []
    }
   ],
   "metadata": {}
  }
 ]
}
